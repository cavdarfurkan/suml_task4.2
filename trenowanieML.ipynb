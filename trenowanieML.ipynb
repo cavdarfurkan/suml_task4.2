{
 "cells": [
  {
   "cell_type": "markdown",
   "id": "7a96f4da",
   "metadata": {},
   "source": [
    "### 1. Import bibliotek"
   ]
  },
  {
   "cell_type": "code",
   "execution_count": 54,
   "id": "tribal-advertising",
   "metadata": {},
   "outputs": [],
   "source": [
    "import pandas as pd\n",
    "from sklearn.preprocessing import LabelEncoder\n",
    "from sklearn.model_selection import train_test_split\n",
    "from sklearn.ensemble import RandomForestClassifier\n",
    "import pickle"
   ]
  },
  {
   "cell_type": "markdown",
   "id": "2feb2c32",
   "metadata": {},
   "source": [
    "### 2. Przygotowanie modelu"
   ]
  },
  {
   "cell_type": "markdown",
   "id": "3d449777",
   "metadata": {},
   "source": [
    "Wykorzystamy kod z poprzednich zajęć do wytrenowania modelu szacującego zmienną \"survived\""
   ]
  },
  {
   "cell_type": "code",
   "execution_count": 55,
   "id": "forced-reporter",
   "metadata": {},
   "outputs": [
    {
     "name": "stdout",
     "output_type": "stream",
     "text": [
      "Random Forest: 0.9986376021798365\n"
     ]
    },
    {
     "name": "stderr",
     "output_type": "stream",
     "text": [
      "/tmp/ipykernel_247978/1298068924.py:7: FutureWarning: A value is trying to be set on a copy of a DataFrame or Series through chained assignment using an inplace method.\n",
      "The behavior will change in pandas 3.0. This inplace method will never work because the intermediate object on which we are setting values always behaves as a copy.\n",
      "\n",
      "For example, when doing 'df[col].method(value, inplace=True)', try using 'df.method({col: value}, inplace=True)' or df[col] = df[col].method(value) instead, to perform the operation inplace on the original object.\n",
      "\n",
      "\n",
      "  data[\"Age\"].fillna((data[\"Age\"].mean()), inplace=True)\n",
      "/tmp/ipykernel_247978/1298068924.py:8: FutureWarning: A value is trying to be set on a copy of a DataFrame or Series through chained assignment using an inplace method.\n",
      "The behavior will change in pandas 3.0. This inplace method will never work because the intermediate object on which we are setting values always behaves as a copy.\n",
      "\n",
      "For example, when doing 'df[col].method(value, inplace=True)', try using 'df.method({col: value}, inplace=True)' or df[col] = df[col].method(value) instead, to perform the operation inplace on the original object.\n",
      "\n",
      "\n",
      "  data[\"RestingBP\"].fillna((data[\"RestingBP\"].mean()), inplace=True)\n",
      "/tmp/ipykernel_247978/1298068924.py:9: FutureWarning: A value is trying to be set on a copy of a DataFrame or Series through chained assignment using an inplace method.\n",
      "The behavior will change in pandas 3.0. This inplace method will never work because the intermediate object on which we are setting values always behaves as a copy.\n",
      "\n",
      "For example, when doing 'df[col].method(value, inplace=True)', try using 'df.method({col: value}, inplace=True)' or df[col] = df[col].method(value) instead, to perform the operation inplace on the original object.\n",
      "\n",
      "\n",
      "  data[\"Cholesterol\"].fillna((data[\"Cholesterol\"].mean()), inplace=True)\n",
      "/tmp/ipykernel_247978/1298068924.py:10: FutureWarning: A value is trying to be set on a copy of a DataFrame or Series through chained assignment using an inplace method.\n",
      "The behavior will change in pandas 3.0. This inplace method will never work because the intermediate object on which we are setting values always behaves as a copy.\n",
      "\n",
      "For example, when doing 'df[col].method(value, inplace=True)', try using 'df.method({col: value}, inplace=True)' or df[col] = df[col].method(value) instead, to perform the operation inplace on the original object.\n",
      "\n",
      "\n",
      "  data[\"FastingBS\"].fillna((data[\"FastingBS\"].mean()), inplace=True)\n"
     ]
    }
   ],
   "source": [
    "base_data = pd.read_csv(\"./datasets/DSP_8.csv\")\n",
    "base_data.columns\n",
    "\n",
    "cols = [\"Age\", \"Sex\", \"ChestPainType\", \"RestingBP\", \"Cholesterol\", \"FastingBS\", \"RestingECG\", \"MaxHR\", \"ExerciseAngina\", \"Oldpeak\", \"HeartDisease\"]\n",
    "data = base_data[cols].copy()\n",
    "\n",
    "data[\"Age\"].fillna((data[\"Age\"].mean()), inplace=True)\n",
    "data[\"RestingBP\"].fillna((data[\"RestingBP\"].mean()), inplace=True)\n",
    "data[\"Cholesterol\"].fillna((data[\"Cholesterol\"].mean()), inplace=True)\n",
    "data[\"FastingBS\"].fillna((data[\"FastingBS\"].mean()), inplace=True)\n",
    "data.dropna(subset=['ChestPainType'], inplace=True)\n",
    "\n",
    "encoder = LabelEncoder()\n",
    "data.loc[:,\"Sex\"] = encoder.fit_transform(data.loc[:,\"Sex\"])\n",
    "data.loc[:,\"ChestPainType\"] = encoder.fit_transform(data.loc[:,\"ChestPainType\"])\n",
    "data.loc[:,\"RestingECG\"] = encoder.fit_transform(data.loc[:,\"RestingECG\"])\n",
    "data.loc[:,\"ExerciseAngina\"] = encoder.fit_transform(data.loc[:,\"ExerciseAngina\"])\n",
    "\n",
    "y = data.iloc[:,10]\n",
    "x = data.iloc[:,0:10]\n",
    "X_train, X_test, y_train, y_test = train_test_split(x, y, test_size = 0.2, random_state = 0)\n",
    "\n",
    "def model(X_train, y_train):\n",
    "    \n",
    "    forest = RandomForestClassifier (n_estimators=20, random_state=0)\n",
    "    forest.fit(X_train,y_train)\n",
    "    print(\"Random Forest: {0}\".format(forest.score(X_train,y_train)))\n",
    "    \n",
    "    return forest\n",
    "\n",
    "forest = model(X_train,y_train)"
   ]
  },
  {
   "cell_type": "code",
   "execution_count": 56,
   "id": "d5b1af80",
   "metadata": {},
   "outputs": [
    {
     "name": "stdout",
     "output_type": "stream",
     "text": [
      "[0]\n",
      "[1]\n"
     ]
    },
    {
     "name": "stderr",
     "output_type": "stream",
     "text": [
      "/home/fcavdar/.conda/envs/suml_task4.1/lib/python3.12/site-packages/sklearn/base.py:493: UserWarning: X does not have valid feature names, but RandomForestClassifier was fitted with feature names\n",
      "  warnings.warn(\n",
      "/home/fcavdar/.conda/envs/suml_task4.1/lib/python3.12/site-packages/sklearn/base.py:493: UserWarning: X does not have valid feature names, but RandomForestClassifier was fitted with feature names\n",
      "  warnings.warn(\n"
     ]
    }
   ],
   "source": [
    "my_data =[\n",
    "            [\n",
    "             40,  #\"Age\"\n",
    "             1,  #\"Sex\", ['F' 'M']\n",
    "             1,  #\"ChestPainType\", ['ASY' 'ATA' 'NAP' 'TA']\n",
    "             140,  #\"RestingBP\"\n",
    "             289,  #\"Cholesterol\"\n",
    "             0,  #\"FastingBS\", 1 = True, 0 = False \n",
    "             1,  #\"RestingECG\", ['LVH' 'Normal' 'ST']\n",
    "             172, #\"MaxHR\"\n",
    "             0, # \"ExerciseAngina\", ['N' 'Y']\n",
    "             0.0, # \"Oldpeak\"\n",
    "    ]\n",
    "]\n",
    "print(forest.predict(my_data))\n",
    "\n",
    "\n",
    "my_data =[\n",
    "            [\n",
    "             49,  #\"Age\"\n",
    "             0,  #\"Sex\", ['F' 'M']\n",
    "             2,  #\"ChestPainType\", ['ASY' 'ATA' 'NAP' 'TA']\n",
    "             160,  #\"RestingBP\"\n",
    "             180,  #\"Cholesterol\"\n",
    "             0,  #\"FastingBS\" \n",
    "             1,  #\"RestingECG\", ['LVH' 'Normal' 'ST']\n",
    "             156, #\"MaxHR\"\n",
    "             0, # \"ExerciseAngina\",['N' 'Y'] \n",
    "             1.0, # \"Oldpeak\"\n",
    "    ]\n",
    "]\n",
    "print(forest.predict(my_data))"
   ]
  },
  {
   "cell_type": "markdown",
   "id": "53d1e31a",
   "metadata": {},
   "source": [
    "Teraz jesteśmy gotowi do wyeksportowania naszego modelu do .pkl"
   ]
  },
  {
   "cell_type": "code",
   "execution_count": 57,
   "id": "8f6efed7",
   "metadata": {},
   "outputs": [],
   "source": [
    "filename = \"model.sv\"\n",
    "pickle.dump(forest, open(filename,'wb'))"
   ]
  },
  {
   "cell_type": "markdown",
   "id": "9047beea",
   "metadata": {},
   "source": [
    "Dalszą część pracy wykonujemy już poza Jupyter Notebook. Przenosimy się do pliku app.py."
   ]
  }
 ],
 "metadata": {
  "kernelspec": {
   "display_name": "suml_task4.1",
   "language": "python",
   "name": "python3"
  },
  "language_info": {
   "codemirror_mode": {
    "name": "ipython",
    "version": 3
   },
   "file_extension": ".py",
   "mimetype": "text/x-python",
   "name": "python",
   "nbconvert_exporter": "python",
   "pygments_lexer": "ipython3",
   "version": "3.12.7"
  }
 },
 "nbformat": 4,
 "nbformat_minor": 5
}
